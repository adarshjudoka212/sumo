{
 "cells": [
  {
   "cell_type": "code",
   "execution_count": 5,
   "metadata": {},
   "outputs": [],
   "source": [
    "import traci\n",
    "import time\n",
    "import traci.constants as tc\n",
    "import pytz\n",
    "\n",
    "import datetime\n",
    "from random import randrange\n",
    "import pandas as pd"
   ]
  },
  {
   "cell_type": "code",
   "execution_count": 6,
   "metadata": {},
   "outputs": [
    {
     "data": {
      "text/plain": [
       "(21, 'SUMO 1.20.0')"
      ]
     },
     "execution_count": 6,
     "metadata": {},
     "output_type": "execute_result"
    }
   ],
   "source": [
    "def flatten_list(_2d_list):\n",
    "    flat_list = []\n",
    "    for element in _2d_list:\n",
    "        if type(element) is list:\n",
    "            for item in element:\n",
    "                flat_list.append(item)\n",
    "        else:\n",
    "            flat_list.append(element)\n",
    "    return flat_list\n",
    "\n",
    "\n",
    "sumoCmd = [\"sumo-gui\", \"-c\",\"map.sumocfg\"]\n",
    "traci.start(sumoCmd)"
   ]
  },
  {
   "cell_type": "code",
   "execution_count": 7,
   "metadata": {},
   "outputs": [],
   "source": [
    "packVehicleData = []\n",
    "packTLSData = []\n",
    "packBigData = []\n",
    "\n",
    "while traci.simulation.getMinExpectedNumber() > 0:\n",
    "       \n",
    "        traci.simulationStep();\n",
    "\n",
    "        vehicles=traci.vehicle.getIDList();\n",
    "        trafficlights=traci.trafficlight.getIDList();\n",
    "\n",
    "           \n",
    "        for i in range(0,len(vehicles)):\n",
    "        \t\n",
    "\n",
    "\n",
    "                vehid = vehicles[i]\n",
    "                x, y = traci.vehicle.getPosition(vehicles[i])\n",
    "                coord = [x, y]\n",
    "                lon, lat = traci.simulation.convertGeo(x, y)\n",
    "                gpscoord = [lon, lat]\n",
    "                spd = round(traci.vehicle.getSpeed(vehicles[i])*3.6,2)\n",
    "                edge=traci.vehicle.getRoadID(vehicles[i])\n",
    "                roadid= traci.vehicle.getRoadID(vehicles[i])\n",
    "                \n",
    "                lane = traci.vehicle.getLaneID(vehicles[i])\n",
    "                displacement = round(traci.vehicle.getDistance(vehicles[i]),2)\n",
    "                turnAngle = round(traci.vehicle.getAngle(vehicles[i]),2)\n",
    "                nextTLS = traci.vehicle.getNextTLS(vehicles[i])\n",
    "                \n",
    "                waitingtime=traci.vehicle.getWaitingTime(vehicles[i])\n",
    "                stop=traci.vehicle.isStopped(vehicles[i])\n",
    "                laneindex=traci.vehicle.getLaneIndex(vehicles[i]) \n",
    "               \n",
    "                noofvehicle=traci.lane.getLastStepVehicleNumber(lane)\n",
    "                arrivaldelay=traci.vehicle.getStopArrivalDelay(vehicles[i])\n",
    "                route=traci.vehicle.getRoute(vehicles[i])\n",
    "               \n",
    "                traveltime=traci.lane.getTraveltime(lane)\n",
    "                bestlane=traci.vehicle.getBestLanes(vehicles[i]) \n",
    "                pendingvehicle=len(traci.lane.getPendingVehicles(lane))\n",
    "                dest=route[len(route)-1]\n",
    "\n",
    "                #Packing of all the data for export to CSV/XLSX\n",
    "                vehList = [vehid,coord,gpscoord, x,y, lon,lat, spd, traveltime,roadid ,dest ,waitingtime,laneindex  ,displacement,nextTLS,edge]\n",
    "\n",
    "                idd = traci.vehicle.getLaneID(vehicles[i])\n",
    "\n",
    "                 \n",
    "                packBigDataLine = flatten_list([vehList])\n",
    "\n",
    "                packBigData.append(packBigDataLine)\n",
    "\n",
    " \n",
    "                   \n",
    "traci.close()\n",
    "\n",
    "#Generate Excel file\n",
    "columnnames = [ 'vehid','coord','gpscoord','x_coord', 'y_coord','lon','lat', 'spd' , 'traveltime', 'roadid','destination', 'waitingtime',   'laneindex'  ,'displacement','nextTLS','edge']\n",
    "dataset = pd.DataFrame(packBigData, index=None, columns=columnnames)\n",
    "dataset.to_excel(\"output.xlsx\", index=False)\n",
    "time.sleep(5)"
   ]
  }
 ],
 "metadata": {
  "kernelspec": {
   "display_name": "Python 3",
   "language": "python",
   "name": "python3"
  },
  "language_info": {
   "codemirror_mode": {
    "name": "ipython",
    "version": 3
   },
   "file_extension": ".py",
   "mimetype": "text/x-python",
   "name": "python",
   "nbconvert_exporter": "python",
   "pygments_lexer": "ipython3",
   "version": "3.12.4"
  }
 },
 "nbformat": 4,
 "nbformat_minor": 2
}
