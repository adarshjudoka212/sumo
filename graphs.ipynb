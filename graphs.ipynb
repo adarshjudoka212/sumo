{
 "cells": [
  {
   "cell_type": "code",
   "execution_count": 14,
   "metadata": {},
   "outputs": [],
   "source": [
    "import numpy as np\n",
    "import pandas as pd\n",
    "import matplotlib.pyplot as plt\n",
    "import powerlaw\n",
    "import networkx as nx\n",
    "from sumolib import net\n"
   ]
  },
  {
   "cell_type": "code",
   "execution_count": 3,
   "metadata": {},
   "outputs": [
    {
     "data": {
      "text/html": [
       "<div>\n",
       "<style scoped>\n",
       "    .dataframe tbody tr th:only-of-type {\n",
       "        vertical-align: middle;\n",
       "    }\n",
       "\n",
       "    .dataframe tbody tr th {\n",
       "        vertical-align: top;\n",
       "    }\n",
       "\n",
       "    .dataframe thead th {\n",
       "        text-align: right;\n",
       "    }\n",
       "</style>\n",
       "<table border=\"1\" class=\"dataframe\">\n",
       "  <thead>\n",
       "    <tr style=\"text-align: right;\">\n",
       "      <th></th>\n",
       "      <th>vehid</th>\n",
       "      <th>coord</th>\n",
       "      <th>gpscoord</th>\n",
       "      <th>x_coord</th>\n",
       "      <th>y_coord</th>\n",
       "      <th>lon</th>\n",
       "      <th>lat</th>\n",
       "      <th>spd</th>\n",
       "      <th>traveltime</th>\n",
       "      <th>roadid</th>\n",
       "      <th>destination</th>\n",
       "      <th>waitingtime</th>\n",
       "      <th>laneindex</th>\n",
       "      <th>displacement</th>\n",
       "      <th>nextTLS</th>\n",
       "      <th>edge</th>\n",
       "    </tr>\n",
       "  </thead>\n",
       "  <tbody>\n",
       "    <tr>\n",
       "      <th>0</th>\n",
       "      <td>0</td>\n",
       "      <td>[1130.5759877800408, 730.8213238289205]</td>\n",
       "      <td>[13.399908223070772, 52.51931071244977]</td>\n",
       "      <td>1130.575988</td>\n",
       "      <td>730.821324</td>\n",
       "      <td>13.399908</td>\n",
       "      <td>52.519311</td>\n",
       "      <td>0.00</td>\n",
       "      <td>1000000.000000</td>\n",
       "      <td>23121445#1</td>\n",
       "      <td>-1119854969#0</td>\n",
       "      <td>0</td>\n",
       "      <td>0</td>\n",
       "      <td>0.00</td>\n",
       "      <td>(('11663153817', 0, 154.45, 'G'), ('1166315381...</td>\n",
       "      <td>23121445#1</td>\n",
       "    </tr>\n",
       "    <tr>\n",
       "      <th>1</th>\n",
       "      <td>0</td>\n",
       "      <td>[1131.2646852204593, 729.6979420300041]</td>\n",
       "      <td>[13.39991873576445, 52.51930075420122]</td>\n",
       "      <td>1131.264685</td>\n",
       "      <td>729.697942</td>\n",
       "      <td>13.399919</td>\n",
       "      <td>52.519301</td>\n",
       "      <td>4.74</td>\n",
       "      <td>11.180527</td>\n",
       "      <td>23121445#1</td>\n",
       "      <td>-1119854969#0</td>\n",
       "      <td>0</td>\n",
       "      <td>0</td>\n",
       "      <td>1.32</td>\n",
       "      <td>(('11663153817', 0, 153.13253074060194, 'G'), ...</td>\n",
       "      <td>23121445#1</td>\n",
       "    </tr>\n",
       "    <tr>\n",
       "      <th>2</th>\n",
       "      <td>1</td>\n",
       "      <td>[584.9528818680757, 951.5322615162703]</td>\n",
       "      <td>[13.391797729927996, 52.52118519044447]</td>\n",
       "      <td>584.952882</td>\n",
       "      <td>951.532262</td>\n",
       "      <td>13.391798</td>\n",
       "      <td>52.521185</td>\n",
       "      <td>0.00</td>\n",
       "      <td>1000000.000000</td>\n",
       "      <td>-492340367#1</td>\n",
       "      <td>-4612981#1</td>\n",
       "      <td>0</td>\n",
       "      <td>0</td>\n",
       "      <td>0.00</td>\n",
       "      <td>(('1635318723', 1, 311.30000000000007, 'G'), (...</td>\n",
       "      <td>-492340367#1</td>\n",
       "    </tr>\n",
       "    <tr>\n",
       "      <th>3</th>\n",
       "      <td>0</td>\n",
       "      <td>[1132.9369413075192, 726.9702100230595]</td>\n",
       "      <td>[13.399944262071442, 52.519276574142445]</td>\n",
       "      <td>1132.936941</td>\n",
       "      <td>726.970210</td>\n",
       "      <td>13.399944</td>\n",
       "      <td>52.519277</td>\n",
       "      <td>11.52</td>\n",
       "      <td>4.604558</td>\n",
       "      <td>23121445#1</td>\n",
       "      <td>-1119854969#0</td>\n",
       "      <td>0</td>\n",
       "      <td>0</td>\n",
       "      <td>4.52</td>\n",
       "      <td>(('11663153817', 0, 149.9335265636677, 'G'), (...</td>\n",
       "      <td>23121445#1</td>\n",
       "    </tr>\n",
       "    <tr>\n",
       "      <th>4</th>\n",
       "      <td>1</td>\n",
       "      <td>[584.7841301624928, 953.5402312908732]</td>\n",
       "      <td>[13.391794584687705, 52.521203201508975]</td>\n",
       "      <td>584.784130</td>\n",
       "      <td>953.540231</td>\n",
       "      <td>13.391795</td>\n",
       "      <td>52.521203</td>\n",
       "      <td>7.25</td>\n",
       "      <td>40.074876</td>\n",
       "      <td>-492340367#1</td>\n",
       "      <td>-4612981#1</td>\n",
       "      <td>0</td>\n",
       "      <td>0</td>\n",
       "      <td>2.01</td>\n",
       "      <td>(('1635318723', 1, 309.2850218612934, 'G'), ('...</td>\n",
       "      <td>-492340367#1</td>\n",
       "    </tr>\n",
       "  </tbody>\n",
       "</table>\n",
       "</div>"
      ],
      "text/plain": [
       "   vehid                                    coord  \\\n",
       "0      0  [1130.5759877800408, 730.8213238289205]   \n",
       "1      0  [1131.2646852204593, 729.6979420300041]   \n",
       "2      1   [584.9528818680757, 951.5322615162703]   \n",
       "3      0  [1132.9369413075192, 726.9702100230595]   \n",
       "4      1   [584.7841301624928, 953.5402312908732]   \n",
       "\n",
       "                                   gpscoord      x_coord     y_coord  \\\n",
       "0   [13.399908223070772, 52.51931071244977]  1130.575988  730.821324   \n",
       "1    [13.39991873576445, 52.51930075420122]  1131.264685  729.697942   \n",
       "2   [13.391797729927996, 52.52118519044447]   584.952882  951.532262   \n",
       "3  [13.399944262071442, 52.519276574142445]  1132.936941  726.970210   \n",
       "4  [13.391794584687705, 52.521203201508975]   584.784130  953.540231   \n",
       "\n",
       "         lon        lat    spd      traveltime        roadid    destination  \\\n",
       "0  13.399908  52.519311   0.00  1000000.000000    23121445#1  -1119854969#0   \n",
       "1  13.399919  52.519301   4.74       11.180527    23121445#1  -1119854969#0   \n",
       "2  13.391798  52.521185   0.00  1000000.000000  -492340367#1     -4612981#1   \n",
       "3  13.399944  52.519277  11.52        4.604558    23121445#1  -1119854969#0   \n",
       "4  13.391795  52.521203   7.25       40.074876  -492340367#1     -4612981#1   \n",
       "\n",
       "   waitingtime  laneindex  displacement  \\\n",
       "0            0          0          0.00   \n",
       "1            0          0          1.32   \n",
       "2            0          0          0.00   \n",
       "3            0          0          4.52   \n",
       "4            0          0          2.01   \n",
       "\n",
       "                                             nextTLS          edge  \n",
       "0  (('11663153817', 0, 154.45, 'G'), ('1166315381...    23121445#1  \n",
       "1  (('11663153817', 0, 153.13253074060194, 'G'), ...    23121445#1  \n",
       "2  (('1635318723', 1, 311.30000000000007, 'G'), (...  -492340367#1  \n",
       "3  (('11663153817', 0, 149.9335265636677, 'G'), (...    23121445#1  \n",
       "4  (('1635318723', 1, 309.2850218612934, 'G'), ('...  -492340367#1  "
      ]
     },
     "execution_count": 3,
     "metadata": {},
     "output_type": "execute_result"
    }
   ],
   "source": [
    "df=pd.read_excel('output.xlsx')\n",
    "df.head()"
   ]
  },
  {
   "cell_type": "code",
   "execution_count": 4,
   "metadata": {},
   "outputs": [
    {
     "data": {
      "text/html": [
       "<div>\n",
       "<style scoped>\n",
       "    .dataframe tbody tr th:only-of-type {\n",
       "        vertical-align: middle;\n",
       "    }\n",
       "\n",
       "    .dataframe tbody tr th {\n",
       "        vertical-align: top;\n",
       "    }\n",
       "\n",
       "    .dataframe thead th {\n",
       "        text-align: right;\n",
       "    }\n",
       "</style>\n",
       "<table border=\"1\" class=\"dataframe\">\n",
       "  <thead>\n",
       "    <tr style=\"text-align: right;\">\n",
       "      <th></th>\n",
       "      <th>vehid</th>\n",
       "      <th>degree</th>\n",
       "    </tr>\n",
       "  </thead>\n",
       "  <tbody>\n",
       "    <tr>\n",
       "      <th>0</th>\n",
       "      <td>2</td>\n",
       "      <td>4287</td>\n",
       "    </tr>\n",
       "    <tr>\n",
       "      <th>1</th>\n",
       "      <td>90</td>\n",
       "      <td>4202</td>\n",
       "    </tr>\n",
       "    <tr>\n",
       "      <th>2</th>\n",
       "      <td>116</td>\n",
       "      <td>4179</td>\n",
       "    </tr>\n",
       "    <tr>\n",
       "      <th>3</th>\n",
       "      <td>284</td>\n",
       "      <td>4049</td>\n",
       "    </tr>\n",
       "    <tr>\n",
       "      <th>4</th>\n",
       "      <td>576</td>\n",
       "      <td>3894</td>\n",
       "    </tr>\n",
       "    <tr>\n",
       "      <th>...</th>\n",
       "      <td>...</td>\n",
       "      <td>...</td>\n",
       "    </tr>\n",
       "    <tr>\n",
       "      <th>747</th>\n",
       "      <td>34</td>\n",
       "      <td>14</td>\n",
       "    </tr>\n",
       "    <tr>\n",
       "      <th>748</th>\n",
       "      <td>921</td>\n",
       "      <td>14</td>\n",
       "    </tr>\n",
       "    <tr>\n",
       "      <th>749</th>\n",
       "      <td>152</td>\n",
       "      <td>14</td>\n",
       "    </tr>\n",
       "    <tr>\n",
       "      <th>750</th>\n",
       "      <td>862</td>\n",
       "      <td>13</td>\n",
       "    </tr>\n",
       "    <tr>\n",
       "      <th>751</th>\n",
       "      <td>505</td>\n",
       "      <td>13</td>\n",
       "    </tr>\n",
       "  </tbody>\n",
       "</table>\n",
       "<p>752 rows × 2 columns</p>\n",
       "</div>"
      ],
      "text/plain": [
       "     vehid  degree\n",
       "0        2    4287\n",
       "1       90    4202\n",
       "2      116    4179\n",
       "3      284    4049\n",
       "4      576    3894\n",
       "..     ...     ...\n",
       "747     34      14\n",
       "748    921      14\n",
       "749    152      14\n",
       "750    862      13\n",
       "751    505      13\n",
       "\n",
       "[752 rows x 2 columns]"
      ]
     },
     "execution_count": 4,
     "metadata": {},
     "output_type": "execute_result"
    }
   ],
   "source": [
    "vehicle_degree=df['vehid'].value_counts().reset_index()\n",
    "vehicle_degree.columns=['vehid','degree']\n",
    "vehicle_degree"
   ]
  },
  {
   "cell_type": "code",
   "execution_count": 5,
   "metadata": {},
   "outputs": [
    {
     "data": {
      "text/plain": [
       "752"
      ]
     },
     "execution_count": 5,
     "metadata": {},
     "output_type": "execute_result"
    }
   ],
   "source": [
    "df['vehid'].nunique()"
   ]
  },
  {
   "cell_type": "code",
   "execution_count": 6,
   "metadata": {},
   "outputs": [
    {
     "data": {
      "text/plain": [
       "1528"
      ]
     },
     "execution_count": 6,
     "metadata": {},
     "output_type": "execute_result"
    }
   ],
   "source": [
    "df['edge'].nunique()"
   ]
  },
  {
   "cell_type": "code",
   "execution_count": 7,
   "metadata": {},
   "outputs": [
    {
     "data": {
      "text/html": [
       "<div>\n",
       "<style scoped>\n",
       "    .dataframe tbody tr th:only-of-type {\n",
       "        vertical-align: middle;\n",
       "    }\n",
       "\n",
       "    .dataframe tbody tr th {\n",
       "        vertical-align: top;\n",
       "    }\n",
       "\n",
       "    .dataframe thead th {\n",
       "        text-align: right;\n",
       "    }\n",
       "</style>\n",
       "<table border=\"1\" class=\"dataframe\">\n",
       "  <thead>\n",
       "    <tr style=\"text-align: right;\">\n",
       "      <th></th>\n",
       "      <th>edge</th>\n",
       "      <th>vehid</th>\n",
       "    </tr>\n",
       "  </thead>\n",
       "  <tbody>\n",
       "    <tr>\n",
       "      <th>0</th>\n",
       "      <td>-1040930907#2</td>\n",
       "      <td>[506]</td>\n",
       "    </tr>\n",
       "    <tr>\n",
       "      <th>1</th>\n",
       "      <td>-1040930907#3</td>\n",
       "      <td>[116, 116, 116, 119, 119, 145, 145, 145, 184, ...</td>\n",
       "    </tr>\n",
       "    <tr>\n",
       "      <th>2</th>\n",
       "      <td>-1040930907#4</td>\n",
       "      <td>[116, 116, 116, 116, 116, 116, 116, 116, 119, ...</td>\n",
       "    </tr>\n",
       "    <tr>\n",
       "      <th>3</th>\n",
       "      <td>-1101961674#0</td>\n",
       "      <td>[444, 444, 444, 444, 444, 444, 444, 444, 444, ...</td>\n",
       "    </tr>\n",
       "    <tr>\n",
       "      <th>4</th>\n",
       "      <td>-1101961674#1</td>\n",
       "      <td>[25, 25, 25, 25, 25, 25, 25, 25, 25, 25, 69, 6...</td>\n",
       "    </tr>\n",
       "  </tbody>\n",
       "</table>\n",
       "</div>"
      ],
      "text/plain": [
       "            edge                                              vehid\n",
       "0  -1040930907#2                                              [506]\n",
       "1  -1040930907#3  [116, 116, 116, 119, 119, 145, 145, 145, 184, ...\n",
       "2  -1040930907#4  [116, 116, 116, 116, 116, 116, 116, 116, 119, ...\n",
       "3  -1101961674#0  [444, 444, 444, 444, 444, 444, 444, 444, 444, ...\n",
       "4  -1101961674#1  [25, 25, 25, 25, 25, 25, 25, 25, 25, 25, 69, 6..."
      ]
     },
     "execution_count": 7,
     "metadata": {},
     "output_type": "execute_result"
    }
   ],
   "source": [
    "edge_vehicle_df=df.groupby('edge')['vehid'].apply(list).reset_index()\n",
    "edge_vehicle_df.head()"
   ]
  },
  {
   "cell_type": "code",
   "execution_count": 12,
   "metadata": {},
   "outputs": [
    {
     "data": {
      "image/png": "[encoded data removed]",
      "text/plain": [
       "<Figure size 640x480 with 1 Axes>"
      ]
     },
     "metadata": {},
     "output_type": "display_data"
    },
    {
     "name": "stdout",
     "output_type": "stream",
     "text": [
      "Calculating best minimal value for power law fit\n",
      "Power-law exponent (alpha): 3.3891851396551553\n",
      "Minimum value to start fitting (xmin): 1011.0\n",
      "P-value for the fit: (np.float64(8.91917944895163), np.float64(0.021081924927277118))\n"
     ]
    }
   ],
   "source": [
    "plt.hist(vehicle_degree['degree'], bins=range(min(vehicle_degree['degree']),max(vehicle_degree['vehid'])))\n",
    "plt.xscale('log')\n",
    "plt.yscale('log')\n",
    "plt.xlabel('Degree')\n",
    "plt.ylabel('Frequency')\n",
    "plt.title('Degree Distribution Histogram')\n",
    "plt.show()\n",
    "\n",
    "fit = powerlaw.Fit(vehicle_degree['degree'], discrete=True)\n",
    "alpha = fit.alpha\n",
    "xmin = fit.xmin\n",
    "\n",
    "print(\"Power-law exponent (alpha):\", alpha)\n",
    "print(\"Minimum value to start fitting (xmin):\", xmin)\n",
    "print(\"P-value for the fit:\", fit.distribution_compare('power_law', 'exponential'))\n"
   ]
  },
  {
   "cell_type": "code",
   "execution_count": 9,
   "metadata": {},
   "outputs": [
    {
     "data": {
      "image/png": "[encoded data removed]",
      "text/plain": [
       "<Figure size 640x480 with 1 Axes>"
      ]
     },
     "metadata": {},
     "output_type": "display_data"
    }
   ],
   "source": [
    "plt.scatter(vehicle_degree['degree'], vehicle_degree['vehid'], color='blue', alpha=0.8)\n",
    "plt.xscale('log')\n",
    "plt.yscale('log')\n",
    "plt.xlabel('Degree')\n",
    "plt.ylabel('Vehicle ID')\n",
    "plt.title('Degree Distribution Scatter Plot')\n",
    "plt.show()"
   ]
  },
  {
   "cell_type": "code",
   "execution_count": 18,
   "metadata": {},
   "outputs": [
    {
     "ename": "ValueError",
     "evalue": "Length mismatch: Expected axis has 16 elements, new values have 2 elements",
     "output_type": "error",
     "traceback": [
      "\u001b[1;31m---------------------------------------------------------------------------\u001b[0m",
      "\u001b[1;31mValueError\u001b[0m                                Traceback (most recent call last)",
      "Cell \u001b[1;32mIn[18], line 2\u001b[0m\n\u001b[0;32m      1\u001b[0m df\u001b[38;5;241m=\u001b[39mpd\u001b[38;5;241m.\u001b[39mread_excel(\u001b[38;5;124m'\u001b[39m\u001b[38;5;124moutput.xlsx\u001b[39m\u001b[38;5;124m'\u001b[39m)\n\u001b[1;32m----> 2\u001b[0m \u001b[43mdf\u001b[49m\u001b[38;5;241;43m.\u001b[39;49m\u001b[43mcolumns\u001b[49m\u001b[38;5;241m=\u001b[39m[\u001b[38;5;124m'\u001b[39m\u001b[38;5;124medge\u001b[39m\u001b[38;5;124m'\u001b[39m,\u001b[38;5;124m'\u001b[39m\u001b[38;5;124mvehid\u001b[39m\u001b[38;5;124m'\u001b[39m]\n\u001b[0;32m      3\u001b[0m df\u001b[38;5;241m.\u001b[39mshape\n",
      "File \u001b[1;32m~\\AppData\\Roaming\\Python\\Python312\\site-packages\\pandas\\core\\generic.py:6313\u001b[0m, in \u001b[0;36mNDFrame.__setattr__\u001b[1;34m(self, name, value)\u001b[0m\n\u001b[0;32m   6311\u001b[0m \u001b[38;5;28;01mtry\u001b[39;00m:\n\u001b[0;32m   6312\u001b[0m     \u001b[38;5;28mobject\u001b[39m\u001b[38;5;241m.\u001b[39m\u001b[38;5;21m__getattribute__\u001b[39m(\u001b[38;5;28mself\u001b[39m, name)\n\u001b[1;32m-> 6313\u001b[0m     \u001b[38;5;28;01mreturn\u001b[39;00m \u001b[38;5;28;43mobject\u001b[39;49m\u001b[38;5;241;43m.\u001b[39;49m\u001b[38;5;21;43m__setattr__\u001b[39;49m\u001b[43m(\u001b[49m\u001b[38;5;28;43mself\u001b[39;49m\u001b[43m,\u001b[49m\u001b[43m \u001b[49m\u001b[43mname\u001b[49m\u001b[43m,\u001b[49m\u001b[43m \u001b[49m\u001b[43mvalue\u001b[49m\u001b[43m)\u001b[49m\n\u001b[0;32m   6314\u001b[0m \u001b[38;5;28;01mexcept\u001b[39;00m \u001b[38;5;167;01mAttributeError\u001b[39;00m:\n\u001b[0;32m   6315\u001b[0m     \u001b[38;5;28;01mpass\u001b[39;00m\n",
      "File \u001b[1;32mproperties.pyx:69\u001b[0m, in \u001b[0;36mpandas._libs.properties.AxisProperty.__set__\u001b[1;34m()\u001b[0m\n",
      "File \u001b[1;32m~\\AppData\\Roaming\\Python\\Python312\\site-packages\\pandas\\core\\generic.py:814\u001b[0m, in \u001b[0;36mNDFrame._set_axis\u001b[1;34m(self, axis, labels)\u001b[0m\n\u001b[0;32m    809\u001b[0m \u001b[38;5;250m\u001b[39m\u001b[38;5;124;03m\"\"\"\u001b[39;00m\n\u001b[0;32m    810\u001b[0m \u001b[38;5;124;03mThis is called from the cython code when we set the `index` attribute\u001b[39;00m\n\u001b[0;32m    811\u001b[0m \u001b[38;5;124;03mdirectly, e.g. `series.index = [1, 2, 3]`.\u001b[39;00m\n\u001b[0;32m    812\u001b[0m \u001b[38;5;124;03m\"\"\"\u001b[39;00m\n\u001b[0;32m    813\u001b[0m labels \u001b[38;5;241m=\u001b[39m ensure_index(labels)\n\u001b[1;32m--> 814\u001b[0m \u001b[38;5;28;43mself\u001b[39;49m\u001b[38;5;241;43m.\u001b[39;49m\u001b[43m_mgr\u001b[49m\u001b[38;5;241;43m.\u001b[39;49m\u001b[43mset_axis\u001b[49m\u001b[43m(\u001b[49m\u001b[43maxis\u001b[49m\u001b[43m,\u001b[49m\u001b[43m \u001b[49m\u001b[43mlabels\u001b[49m\u001b[43m)\u001b[49m\n\u001b[0;32m    815\u001b[0m \u001b[38;5;28mself\u001b[39m\u001b[38;5;241m.\u001b[39m_clear_item_cache()\n",
      "File \u001b[1;32m~\\AppData\\Roaming\\Python\\Python312\\site-packages\\pandas\\core\\internals\\managers.py:238\u001b[0m, in \u001b[0;36mBaseBlockManager.set_axis\u001b[1;34m(self, axis, new_labels)\u001b[0m\n\u001b[0;32m    236\u001b[0m \u001b[38;5;28;01mdef\u001b[39;00m \u001b[38;5;21mset_axis\u001b[39m(\u001b[38;5;28mself\u001b[39m, axis: AxisInt, new_labels: Index) \u001b[38;5;241m-\u001b[39m\u001b[38;5;241m>\u001b[39m \u001b[38;5;28;01mNone\u001b[39;00m:\n\u001b[0;32m    237\u001b[0m     \u001b[38;5;66;03m# Caller is responsible for ensuring we have an Index object.\u001b[39;00m\n\u001b[1;32m--> 238\u001b[0m     \u001b[38;5;28;43mself\u001b[39;49m\u001b[38;5;241;43m.\u001b[39;49m\u001b[43m_validate_set_axis\u001b[49m\u001b[43m(\u001b[49m\u001b[43maxis\u001b[49m\u001b[43m,\u001b[49m\u001b[43m \u001b[49m\u001b[43mnew_labels\u001b[49m\u001b[43m)\u001b[49m\n\u001b[0;32m    239\u001b[0m     \u001b[38;5;28mself\u001b[39m\u001b[38;5;241m.\u001b[39maxes[axis] \u001b[38;5;241m=\u001b[39m new_labels\n",
      "File \u001b[1;32m~\\AppData\\Roaming\\Python\\Python312\\site-packages\\pandas\\core\\internals\\base.py:98\u001b[0m, in \u001b[0;36mDataManager._validate_set_axis\u001b[1;34m(self, axis, new_labels)\u001b[0m\n\u001b[0;32m     95\u001b[0m     \u001b[38;5;28;01mpass\u001b[39;00m\n\u001b[0;32m     97\u001b[0m \u001b[38;5;28;01melif\u001b[39;00m new_len \u001b[38;5;241m!=\u001b[39m old_len:\n\u001b[1;32m---> 98\u001b[0m     \u001b[38;5;28;01mraise\u001b[39;00m \u001b[38;5;167;01mValueError\u001b[39;00m(\n\u001b[0;32m     99\u001b[0m         \u001b[38;5;124mf\u001b[39m\u001b[38;5;124m\"\u001b[39m\u001b[38;5;124mLength mismatch: Expected axis has \u001b[39m\u001b[38;5;132;01m{\u001b[39;00mold_len\u001b[38;5;132;01m}\u001b[39;00m\u001b[38;5;124m elements, new \u001b[39m\u001b[38;5;124m\"\u001b[39m\n\u001b[0;32m    100\u001b[0m         \u001b[38;5;124mf\u001b[39m\u001b[38;5;124m\"\u001b[39m\u001b[38;5;124mvalues have \u001b[39m\u001b[38;5;132;01m{\u001b[39;00mnew_len\u001b[38;5;132;01m}\u001b[39;00m\u001b[38;5;124m elements\u001b[39m\u001b[38;5;124m\"\u001b[39m\n\u001b[0;32m    101\u001b[0m     )\n",
      "\u001b[1;31mValueError\u001b[0m: Length mismatch: Expected axis has 16 elements, new values have 2 elements"
     ]
    }
   ],
   "source": [
    "df=pd.read_excel('output.xlsx')\n",
    "df.columns=['edge','vehid']\n",
    "df.shape"
   ]
  }
 ],
 "metadata": {
  "kernelspec": {
   "display_name": "Python 3",
   "language": "python",
   "name": "python3"
  },
  "language_info": {
   "codemirror_mode": {
    "name": "ipython",
    "version": 3
   },
   "file_extension": ".py",
   "mimetype": "text/x-python",
   "name": "python",
   "nbconvert_exporter": "python",
   "pygments_lexer": "ipython3",
   "version": "3.12.4"
  }
 },
 "nbformat": 4,
 "nbformat_minor": 2
}
